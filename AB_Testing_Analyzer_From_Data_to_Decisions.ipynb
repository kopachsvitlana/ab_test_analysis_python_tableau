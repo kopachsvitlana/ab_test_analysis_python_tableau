{
  "nbformat": 4,
  "nbformat_minor": 0,
  "metadata": {
    "colab": {
      "provenance": [],
      "authorship_tag": "ABX9TyNij5NjiIrFzTbVMsS5TXmP",
      "include_colab_link": true
    },
    "kernelspec": {
      "name": "python3",
      "display_name": "Python 3"
    },
    "language_info": {
      "name": "python"
    }
  },
  "cells": [
    {
      "cell_type": "markdown",
      "metadata": {
        "id": "view-in-github",
        "colab_type": "text"
      },
      "source": [
        "<a href=\"https://colab.research.google.com/github/kopachsvitlana/ab_test_analysis_python_tableau/blob/main/AB_Testing_Analyzer_From_Data_to_Decisions.ipynb\" target=\"_parent\"><img src=\"https://colab.research.google.com/assets/colab-badge.svg\" alt=\"Open In Colab\"/></a>"
      ]
    },
    {
      "cell_type": "code",
      "execution_count": null,
      "metadata": {
        "id": "8Da2gb2vnr1k"
      },
      "outputs": [],
      "source": [
        "import pandas as pd\n",
        "import numpy as np\n",
        "import scipy.stats as stats\n",
        "from scipy.stats import norm\n",
        "import matplotlib.pyplot as plt\n",
        "import seaborn as sns"
      ]
    },
    {
      "cell_type": "code",
      "source": [
        "# З'єднання з Google Drive\n",
        "from google.colab import drive\n",
        "drive.mount(\"/content/drive\")"
      ],
      "metadata": {
        "colab": {
          "base_uri": "https://localhost:8080/"
        },
        "id": "z_qcR_q-qBPx",
        "outputId": "d656d0b7-dd6a-4b71-c811-6e28275868dd"
      },
      "execution_count": null,
      "outputs": [
        {
          "output_type": "stream",
          "name": "stdout",
          "text": [
            "Mounted at /content/drive\n"
          ]
        }
      ]
    },
    {
      "cell_type": "code",
      "source": [
        "# Шлях до папки\n",
        "%cd /content/drive/MyDrive/MateAcademy_(files)"
      ],
      "metadata": {
        "colab": {
          "base_uri": "https://localhost:8080/"
        },
        "id": "dj2I8zRLqSZt",
        "outputId": "be279d63-0085-4e7a-b168-59c1e0fbc2f1"
      },
      "execution_count": null,
      "outputs": [
        {
          "output_type": "stream",
          "name": "stdout",
          "text": [
            "/content/drive/MyDrive/MateAcademy_(files)\n"
          ]
        }
      ]
    },
    {
      "cell_type": "code",
      "source": [
        "df = pd.read_csv(\"project.csv\")\n",
        "print(df.head())\n",
        "print(df.info())\n",
        "print(df.describe())"
      ],
      "metadata": {
        "colab": {
          "base_uri": "https://localhost:8080/"
        },
        "id": "XAV_nCsrqPSy",
        "outputId": "60267e02-b43a-4172-a175-b565354b27c6"
      },
      "execution_count": null,
      "outputs": [
        {
          "output_type": "stream",
          "name": "stdout",
          "text": [
            "         date      country   device continent         channel  test  \\\n",
            "0  2020-11-01    Lithuania   mobile    Europe  Organic Search     2   \n",
            "1  2020-11-01    Lithuania   mobile    Europe  Organic Search     1   \n",
            "2  2020-11-01  El Salvador  desktop  Americas   Social Search     2   \n",
            "3  2020-11-01  El Salvador  desktop  Americas   Social Search     1   \n",
            "4  2020-11-01     Slovakia   mobile    Europe     Paid Search     2   \n",
            "\n",
            "   test_group   event_name  value  \n",
            "0           2  new account      1  \n",
            "1           2  new account      1  \n",
            "2           1  new account      1  \n",
            "3           2  new account      1  \n",
            "4           2  new account      1  \n",
            "<class 'pandas.core.frame.DataFrame'>\n",
            "RangeIndex: 800996 entries, 0 to 800995\n",
            "Data columns (total 9 columns):\n",
            " #   Column      Non-Null Count   Dtype \n",
            "---  ------      --------------   ----- \n",
            " 0   date        800996 non-null  object\n",
            " 1   country     800996 non-null  object\n",
            " 2   device      800996 non-null  object\n",
            " 3   continent   800996 non-null  object\n",
            " 4   channel     800996 non-null  object\n",
            " 5   test        800996 non-null  int64 \n",
            " 6   test_group  800996 non-null  int64 \n",
            " 7   event_name  800996 non-null  object\n",
            " 8   value       800996 non-null  int64 \n",
            "dtypes: int64(3), object(6)\n",
            "memory usage: 55.0+ MB\n",
            "None\n",
            "                test     test_group          value\n",
            "count  800996.000000  800996.000000  800996.000000\n",
            "mean        2.831191       1.499608       9.475863\n",
            "std         1.116940       0.500000      37.493267\n",
            "min         1.000000       1.000000       1.000000\n",
            "25%         2.000000       1.000000       1.000000\n",
            "50%         3.000000       1.000000       2.000000\n",
            "75%         4.000000       2.000000       5.000000\n",
            "max         4.000000       2.000000    1575.000000\n"
          ]
        }
      ]
    },
    {
      "cell_type": "code",
      "source": [
        "# Замінюємо значення в колонці 'event_name'\n",
        "df['event_name'] = df['event_name'].replace('new account', 'new_account')"
      ],
      "metadata": {
        "id": "N2EhldTc-wia"
      },
      "execution_count": null,
      "outputs": []
    },
    {
      "cell_type": "code",
      "source": [
        "# Збільшуємо максимальну кількість символів, що можуть відображатись в одному рядку\n",
        "pd.set_option('display.max_columns', None)  # Показуємо всі стовпці\n",
        "pd.set_option('display.width', 200)  # Ширина екрану для відображення\n",
        "pd.set_option('display.max_colwidth', None)  # Дозволяє виводити всі символи в стовпці\n",
        "pd.set_option('display.max_rows', None)  # Показуємо всі рядки"
      ],
      "metadata": {
        "id": "VBOazFCFBD7X"
      },
      "execution_count": null,
      "outputs": []
    },
    {
      "cell_type": "code",
      "source": [
        "# Групуємо дані за test_group, test та event_name, підсумовуючи value\n",
        "df_grouped = df.groupby([\"test_group\", \"test\", \"event_name\"])[\"value\"].sum().unstack().reset_index()\n",
        "\n",
        "print(df_grouped)"
      ],
      "metadata": {
        "colab": {
          "base_uri": "https://localhost:8080/"
        },
        "id": "ZV5j07Eotw-n",
        "outputId": "2cd1efdc-2639-42b6-9032-9f4b50790c35"
      },
      "execution_count": null,
      "outputs": [
        {
          "output_type": "stream",
          "name": "stdout",
          "text": [
            "event_name  test_group  test  add_payment_info  add_shipping_info  add_to_cart  begin_checkout  click  first_visit  new_account  page_view  scroll  select_item  select_promotion  session_start  \\\n",
            "0                    1     1              1988               3034         1395            3784    368        30596         3823     191543   73244          543              1275          45905   \n",
            "1                    1     2              2344               3480         2811            4262    337        34511         4165     220275   80713          905              1477          51219   \n",
            "2                    1     3              3623               5298        17674            9532    280        50438         5856     286351  110360         8735              2020          71312   \n",
            "3                    1     4              3731               5128        21536           12555    285        80900         8984     379480  136037        12214              2773         107128   \n",
            "4                    2     1              2229               3221         1366            4021    353        30512         3681     198050   73376          530              1323          45649   \n",
            "5                    2     2              2409               3510         3061            4313    413        34171         4184     212320   81370          946              1406          50808   \n",
            "6                    2     3              3697               5188        17229            9264    292        50728         5822     284287  109564         8556              1996          71686   \n",
            "7                    2     4              3601               4956        21554           12267    299        80626         8687     378307  134156        11988              2708         106978   \n",
            "\n",
            "event_name  sessions  sessions with orders  user_engagement  view_item  view_item_list  view_promotion  view_search_results  \n",
            "0              45362                  4514           171788      62335              27           29188                 3678  \n",
            "1              50637                  5102           198266      72717              24           32367                 4282  \n",
            "2              70047                  6951           249921      93931               9           41169                 5764  \n",
            "3             105079                 10596           273946      98619               5           52672                 7582  \n",
            "4              45193                  4526           179081      65337              24           29117                 3882  \n",
            "5              50244                  5003           189931      68700              29           31680                 4198  \n",
            "6              70439                  7151           248325      92841               9           40959                 5619  \n",
            "7             105141                 10481           273633      98928               6           51985                 7203  \n"
          ]
        }
      ]
    },
    {
      "cell_type": "markdown",
      "source": [
        "##Розрахунок значущості в тоталі\n"
      ],
      "metadata": {
        "id": "psiDJQ1P6Zd7"
      }
    },
    {
      "cell_type": "code",
      "source": [
        "\n",
        "# Функція для обчислення результатів для всіх тестів\n",
        "def calculate_metrics_for_all_tests(df_grouped, metrics):\n",
        "    # Ініціалізуємо список для збереження результатів\n",
        "    results = []\n",
        "\n",
        "    # Перебираємо кожен тест (test від 1 до 4)\n",
        "    for test_id in range(1, 5):  # для тестів 1, 2, 3, 4\n",
        "        # Фільтруємо дані для test_group 1 і 2\n",
        "        df_filtered = df_grouped[(df_grouped[\"test\"] == test_id) & (df_grouped[\"test_group\"].isin([1, 2]))].copy()\n",
        "\n",
        "        # Перебираємо кожну метрику\n",
        "        for metric in metrics:\n",
        "            # Отримуємо дані для двох груп\n",
        "            x1 = df_filtered[df_filtered[\"test_group\"] == 1][metric].values[0]  # Кількість успіхів у групі 1\n",
        "            n1 = df_filtered[df_filtered[\"test_group\"] == 1][\"sessions\"].values[0]  # Всього сесій у групі 1\n",
        "            x2 = df_filtered[df_filtered[\"test_group\"] == 2][metric].values[0]  # Кількість успіхів у групі 2\n",
        "            n2 = df_filtered[df_filtered[\"test_group\"] == 2][\"sessions\"].values[0]  # Всього сесій у групі 2\n",
        "\n",
        "            # Розраховуємо конверсії\n",
        "            p1 = x1 / n1\n",
        "            p2 = x2 / n2\n",
        "\n",
        "            # Розраховуємо pooled proportion (спільну конверсію)\n",
        "            p_pooled = (x1 + x2) / (n1 + n2)\n",
        "\n",
        "            # Розраховуємо стандартну помилку\n",
        "            SE = (p_pooled * (1 - p_pooled) * (1/n1 + 1/n2)) ** 0.5\n",
        "\n",
        "            # Розраховуємо Z-статистику\n",
        "            Z = (p2 - p1) / SE\n",
        "\n",
        "            # Розраховуємо p-value\n",
        "            p_value = norm.sf(abs(Z)) * 2  # Двосторонній тест\n",
        "\n",
        "            # Відсоткову зміну\n",
        "            percentage_change = ((p2 / p1) - 1) * 100\n",
        "\n",
        "            # Визначаємо, чи є результат статистично значущим\n",
        "            significant = \"True\" if p_value < 0.05 else \"False\"\n",
        "\n",
        "            # Зберігаємо результат\n",
        "            results.append({\n",
        "                \"test_id\": test_id,\n",
        "                \"metric\": metric,\n",
        "                \"conversion_rate_1\": p1,\n",
        "                \"conversion_rate_2\": p2,\n",
        "                \"z_stat\": Z,\n",
        "                \"p_value\": p_value,\n",
        "                \"percentage_change\": percentage_change,\n",
        "                \"significant\": significant\n",
        "            })\n",
        "\n",
        "    # Перетворюємо в DataFrame для зручного виводу\n",
        "    df_results = pd.DataFrame(results)\n",
        "    return df_results\n",
        "\n",
        "# Визначаємо список метрик\n",
        "metrics = [\"add_payment_info\", \"add_shipping_info\", \"begin_checkout\", \"new_account\"]\n",
        "\n",
        "# Викликаємо функцію для обчислення результатів для всіх тестів\n",
        "df_results = calculate_metrics_for_all_tests(df_grouped, metrics)\n",
        "\n",
        "# Виводимо результат\n",
        "print(df_results)\n"
      ],
      "metadata": {
        "colab": {
          "base_uri": "https://localhost:8080/"
        },
        "id": "tfjCiZye4WQA",
        "outputId": "e27305e4-a13d-466a-aa42-c65e27b93b27"
      },
      "execution_count": null,
      "outputs": [
        {
          "output_type": "stream",
          "name": "stdout",
          "text": [
            "    test_id             metric  conversion_rate_1  conversion_rate_2    z_stat   p_value  percentage_change significant\n",
            "0         1   add_payment_info           0.043825           0.049322  3.924884  0.000087          12.542021        True\n",
            "1         1  add_shipping_info           0.066884           0.071272  2.603571  0.009226           6.560481        True\n",
            "2         1     begin_checkout           0.083418           0.088974  2.978783  0.002894           6.660587        True\n",
            "3         1        new_account           0.084278           0.081451 -1.542883  0.122859          -3.354299       False\n",
            "4         2   add_payment_info           0.046290           0.047946  1.240994  0.214608           3.576911       False\n",
            "5         2  add_shipping_info           0.068724           0.069859  0.709557  0.477979           1.650995       False\n",
            "6         2     begin_checkout           0.084168           0.085841  0.952898  0.340642           1.988164       False\n",
            "7         2        new_account           0.082252           0.083274  0.588793  0.556000           1.241934       False\n",
            "8         3   add_payment_info           0.051722           0.052485  0.643172  0.520112           1.474630       False\n",
            "9         3  add_shipping_info           0.075635           0.073652 -1.413727  0.157442          -2.621211       False\n",
            "10        3     begin_checkout           0.136080           0.131518 -2.511389  0.012026          -3.352445        True\n",
            "11        3        new_account           0.083601           0.082653 -0.643489  0.519907          -1.133880       False\n",
            "12        4   add_payment_info           0.035507           0.034249 -1.571106  0.116158          -3.541234       False\n",
            "13        4  add_shipping_info           0.048801           0.047137 -1.785795  0.074132          -3.411125       False\n",
            "14        4     begin_checkout           0.119482           0.116672 -1.995998  0.045934          -2.351523        True\n",
            "15        4        new_account           0.085498           0.082622 -2.375457  0.017527          -3.362896        True\n"
          ]
        }
      ]
    },
    {
      "cell_type": "markdown",
      "source": [
        "##Висновки\n",
        "\n",
        "Загальні розрахунки для **тесту №1** показали, що ми отримали позитивні статистично значущі результати по трьом метрикам. Варто проаналізувати чому тест негативно повпливав на метрику new_account або для підвищення цієї метрики розробити інший тест.\n",
        "\n",
        "Загальні розрахунки для **тесту №2** показали, що ми отримали позитивні результати, але всі вони не є статистично значущими. Тому потрібно розрахувати на скільки нам потрібно продовжити тест, щоб отримати статистично значущі результати. Якщо термін продовження нам підходить, то продовжуємо тест, а якщо не підходить - відмовляємося від даного тесту.\n",
        "\n",
        "Загальні розрахунки для **тесту №3** показали, що ми отримали лише один позитивний результат, але він не є статистично значущим. Тому потрібно розрахувати на скільки нам потрібно продовжити тест, щоб отримати статистично значущі результати. Якщо термін продовження нам підходить, то продовжуємо тест, а якщо не підходить - відмовляємося від даного тесту.\n",
        "\n",
        "Загальні розрахунки для **тесту №4** показали, що ми взагалі не отримали позитивних результатів, але для двох метрик вони не є статистично значущими. Тому потрібно розрахувати на скільки нам потрібно продовжити тест, щоб отримати статистично значущі результати для метрик begin_checkout та new_account. Якщо термін продовження нам підходить, то продовжуємо тест, а якщо не підходить - відмовляємося від даного тесту. Для двох інших метрик, які показали негативні статистично значущі результати пропоную провести новий тест."
      ],
      "metadata": {
        "id": "COEBrghYvuiN"
      }
    },
    {
      "cell_type": "markdown",
      "source": [
        "##Розрахунок значущості в розрізі device"
      ],
      "metadata": {
        "id": "SXHkIzVDTpVR"
      }
    },
    {
      "cell_type": "code",
      "source": [
        "\n",
        "# Функція для обчислення метрик по девайсах\n",
        "def calculate_metrics_for_devices(df, metrics):\n",
        "    # Ініціалізуємо список для збереження результатів\n",
        "    results_by_device = []\n",
        "\n",
        "    # Перебираємо кожен тест (test від 1 до 4)\n",
        "    for test_id in range(1, 5):  # для тестів 1, 2, 3, 4\n",
        "        # Фільтруємо дані для конкретного тесту і групуємо по тест-групам, девайсах та метриках\n",
        "        df_device_grouped = df[df[\"test\"] == test_id].groupby([\"test_group\", \"device\", \"event_name\"])[\"value\"].sum().unstack().reset_index()\n",
        "\n",
        "        for device in df_device_grouped[\"device\"].unique():\n",
        "            # Фільтруємо по девайсу\n",
        "            df_device = df_device_grouped[df_device_grouped[\"device\"] == device]\n",
        "\n",
        "            # Перебираємо кожну метрику\n",
        "            for metric in metrics:\n",
        "                # Отримуємо дані для двох груп\n",
        "                x1 = df_device[df_device[\"test_group\"] == 1][metric].values[0]  # Кількість успіхів у групі 1\n",
        "                n1 = df_device[df_device[\"test_group\"] == 1][\"sessions\"].values[0]  # Всього сесій у групі 1\n",
        "                x2 = df_device[df_device[\"test_group\"] == 2][metric].values[0]  # Кількість успіхів у групі 2\n",
        "                n2 = df_device[df_device[\"test_group\"] == 2][\"sessions\"].values[0]  # Всього сесій у групі 2\n",
        "\n",
        "                # Розраховуємо конверсії\n",
        "                p1 = x1 / n1\n",
        "                p2 = x2 / n2\n",
        "\n",
        "                # Розраховуємо pooled proportion (спільну конверсію)\n",
        "                p_pooled = (x1 + x2) / (n1 + n2)\n",
        "\n",
        "                # Розраховуємо стандартну помилку\n",
        "                SE = (p_pooled * (1 - p_pooled) * (1/n1 + 1/n2)) ** 0.5\n",
        "\n",
        "                # Розраховуємо Z-статистику\n",
        "                Z = (p2 - p1) / SE\n",
        "\n",
        "                # Розраховуємо p-value\n",
        "                p_value = norm.sf(abs(Z)) * 2  # Двосторонній тест\n",
        "\n",
        "                # Відсоткову зміну\n",
        "                percentage_change = ((p2 / p1) - 1) * 100\n",
        "\n",
        "                # Визначаємо, чи є результат статистично значущим\n",
        "                significant = \"True\" if p_value < 0.05 else \"False\"\n",
        "\n",
        "                # Зберігаємо результат\n",
        "                results_by_device.append({\n",
        "                    \"test_id\": test_id,\n",
        "                    \"metric\": metric,\n",
        "                    \"device\": device,\n",
        "                    \"x1\": x1,  # Кількість успіхів у групі 1\n",
        "                    \"n1\": n1,  # Всього сесій у групі 1\n",
        "                    \"conversion_rate_1\": p1,\n",
        "                    \"x2\": x2,  # Кількість успіхів у групі 2\n",
        "                    \"n2\": n2,  # Всього сесій у групі 2\n",
        "                    \"conversion_rate_2\": p2,\n",
        "                    \"z_stat\": Z,\n",
        "                    \"p_value\": p_value,\n",
        "                    \"percentage_change\": percentage_change,\n",
        "                    \"significant\": significant\n",
        "                })\n",
        "\n",
        "    # Перетворюємо в DataFrame для зручного виводу\n",
        "    df_results_by_device = pd.DataFrame(results_by_device)\n",
        "\n",
        "    # Групуємо за пристроєм, щоб переглянути результати окремо\n",
        "    device_tables = {device: df_results_by_device[df_results_by_device[\"device\"] == device] for device in df_results_by_device[\"device\"].unique()}\n",
        "\n",
        "    return device_tables\n",
        "\n",
        "# Визначаємо список метрик\n",
        "metrics = [\"add_payment_info\", \"add_shipping_info\", \"begin_checkout\", \"new_account\"]\n",
        "\n",
        "# Викликаємо функцію для обчислення результатів для всіх девайсів\n",
        "device_tables = calculate_metrics_for_devices(df, metrics)\n",
        "\n",
        "# Виводимо таблиці для кожного пристрою\n",
        "for device, table in device_tables.items():\n",
        "    print(f\"Results for device: {device}\")\n",
        "    print(table, \"\\n\")\n"
      ],
      "metadata": {
        "colab": {
          "base_uri": "https://localhost:8080/"
        },
        "id": "P7MljzH-6aZS",
        "outputId": "e52421ab-68d0-422e-9e8b-3ff31dc232ee"
      },
      "execution_count": null,
      "outputs": [
        {
          "output_type": "stream",
          "name": "stdout",
          "text": [
            "Results for device: desktop\n",
            "    test_id             metric   device      x1       n1  conversion_rate_1      x2       n2  conversion_rate_2    z_stat   p_value  percentage_change significant\n",
            "0         1   add_payment_info  desktop  1130.0  26467.0           0.042695  1256.0  26417.0           0.047545  2.686998  0.007210          11.360819        True\n",
            "1         1  add_shipping_info  desktop  1711.0  26467.0           0.064647  1916.0  26417.0           0.072529  3.586024  0.000336          12.193247        True\n",
            "2         1     begin_checkout  desktop  2108.0  26467.0           0.079646  2404.0  26417.0           0.091002  4.673980  0.000003          14.257595        True\n",
            "3         1        new_account  desktop  2203.0  26467.0           0.083236  2147.0  26417.0           0.081273 -0.821212  0.411526          -2.357527       False\n",
            "12        2   add_payment_info  desktop  1314.0  29497.0           0.044547  1401.0  29380.0           0.047686  1.815587  0.069434           7.045601       False\n",
            "13        2  add_shipping_info  desktop  1988.0  29497.0           0.067397  2088.0  29380.0           0.071069  1.755041  0.079252           5.448443       False\n",
            "14        2     begin_checkout  desktop  2403.0  29497.0           0.081466  2585.0  29380.0           0.087985  2.840291  0.004507           8.002258        True\n",
            "15        2        new_account  desktop  2442.0  29497.0           0.082788  2385.0  29380.0           0.081178 -0.712176  0.476356          -1.945218       False\n",
            "24        3   add_payment_info  desktop  2087.0  41106.0           0.050771  2167.0  41443.0           0.052289  0.986051  0.324108           2.988918       False\n",
            "25        3  add_shipping_info  desktop  3120.0  41106.0           0.075901  3072.0  41443.0           0.074126 -0.968268  0.332911          -2.339116       False\n",
            "26        3     begin_checkout  desktop  5618.0  41106.0           0.136671  5567.0  41443.0           0.134329 -0.983009  0.325603          -1.713580       False\n",
            "27        3        new_account  desktop  3458.0  41106.0           0.084124  3409.0  41443.0           0.082258 -0.970872  0.331612          -2.218647       False\n",
            "36        4   add_payment_info  desktop  2211.0  61484.0           0.035961  2046.0  61436.0           0.033303 -2.547934  0.010836          -7.390387        True\n",
            "37        4  add_shipping_info  desktop  3042.0  61484.0           0.049476  2845.0  61436.0           0.046308 -2.600630  0.009305          -6.402932        True\n",
            "38        4     begin_checkout  desktop  7456.0  61484.0           0.121267  7026.0  61436.0           0.114363 -3.754267  0.000174          -5.693543        True\n",
            "39        4        new_account  desktop  5314.0  61484.0           0.086429  5105.0  61436.0           0.083095 -2.098595  0.035853          -3.857950        True \n",
            "\n",
            "Results for device: mobile\n",
            "    test_id             metric  device      x1       n1  conversion_rate_1      x2       n2  conversion_rate_2    z_stat   p_value  percentage_change significant\n",
            "4         1   add_payment_info  mobile   810.0  17896.0           0.045262   942.0  17767.0           0.053020  3.389330  0.000701          17.140683        True\n",
            "5         1  add_shipping_info  mobile  1257.0  17896.0           0.070239  1256.0  17767.0           0.070693  0.167387  0.867065           0.645933       False\n",
            "6         1     begin_checkout  mobile  1593.0  17896.0           0.089014  1561.0  17767.0           0.087860 -0.384029  0.700957          -1.297308       False\n",
            "7         1        new_account  mobile  1530.0  17896.0           0.085494  1441.0  17767.0           0.081105 -1.499486  0.133748          -5.133163       False\n",
            "16        2   add_payment_info  mobile   978.0  20017.0           0.048858   961.0  19756.0           0.048643 -0.099562  0.920692          -0.440088       False\n",
            "17        2  add_shipping_info  mobile  1417.0  20017.0           0.070790  1356.0  19756.0           0.068637 -0.842754  0.399366          -3.040624       False\n",
            "18        2     begin_checkout  mobile  1766.0  20017.0           0.088225  1656.0  19756.0           0.083823 -1.565423  0.117484          -4.989937       False\n",
            "19        2        new_account  mobile  1623.0  20017.0           0.081081  1701.0  19756.0           0.086100  1.808493  0.070530           6.190524       False\n",
            "28        3   add_payment_info  mobile  1463.0  27404.0           0.053386  1463.0  27423.0           0.053349 -0.019267  0.984628          -0.069285       False\n",
            "29        3  add_shipping_info  mobile  2071.0  27404.0           0.075573  2029.0  27423.0           0.073989 -0.704992  0.480816          -2.095886       False\n",
            "30        3     begin_checkout  mobile  3735.0  27404.0           0.136294  3562.0  27423.0           0.129891 -2.206934  0.027319          -4.697937        True\n",
            "31        3        new_account  mobile  2272.0  27404.0           0.082908  2276.0  27423.0           0.082996  0.037533  0.970060           0.106649       False\n",
            "40        4   add_payment_info  mobile  1413.0  41216.0           0.034283  1501.0  41345.0           0.036304  1.573870  0.115517           5.896444       False\n",
            "41        4  add_shipping_info  mobile  1961.0  41216.0           0.047579  2023.0  41345.0           0.048930  0.905776  0.365054           2.839779       False\n",
            "42        4     begin_checkout  mobile  4788.0  41216.0           0.116168  5009.0  41345.0           0.121151  2.213611  0.026856           4.289296        True\n",
            "43        4        new_account  mobile  3455.0  41216.0           0.083827  3384.0  41345.0           0.081848 -1.031400  0.302353          -2.360590       False \n",
            "\n",
            "Results for device: tablet\n",
            "    test_id             metric  device     x1      n1  conversion_rate_1     x2      n2  conversion_rate_2    z_stat   p_value  percentage_change significant\n",
            "8         1   add_payment_info  tablet   48.0   999.0           0.048048   31.0  1009.0           0.030723 -1.996608  0.045868         -36.056739        True\n",
            "9         1  add_shipping_info  tablet   66.0   999.0           0.066066   49.0  1009.0           0.048563 -1.687725  0.091464         -26.493378       False\n",
            "10        1     begin_checkout  tablet   83.0   999.0           0.083083   56.0  1009.0           0.055500 -2.434631  0.014907         -33.198801        True\n",
            "11        1        new_account  tablet   90.0   999.0           0.090090   93.0  1009.0           0.092170  0.161955  0.871341           2.309217       False\n",
            "20        2   add_payment_info  tablet   52.0  1123.0           0.046305   47.0  1108.0           0.042419 -0.445631  0.655864          -8.391766       False\n",
            "21        2  add_shipping_info  tablet   75.0  1123.0           0.066785   66.0  1108.0           0.059567 -0.700617  0.483542         -10.808664       False\n",
            "22        2     begin_checkout  tablet   93.0  1123.0           0.082814   72.0  1108.0           0.064982 -1.609167  0.107580         -21.532549       False\n",
            "23        2        new_account  tablet  100.0  1123.0           0.089047   98.0  1108.0           0.088448 -0.049788  0.960291          -0.673285       False\n",
            "32        3   add_payment_info  tablet   73.0  1537.0           0.047495   67.0  1573.0           0.042594 -0.659106  0.509828         -10.319693       False\n",
            "33        3  add_shipping_info  tablet  107.0  1537.0           0.069616   87.0  1573.0           0.055308 -1.649529  0.099039         -20.552430       False\n",
            "34        3     begin_checkout  tablet  179.0  1537.0           0.116461  135.0  1573.0           0.085823 -2.835304  0.004578         -26.307060        True\n",
            "35        3        new_account  tablet  126.0  1537.0           0.081978  137.0  1573.0           0.087095  0.512758  0.608121           6.241738       False\n",
            "44        4   add_payment_info  tablet  107.0  2379.0           0.044977   54.0  2360.0           0.022881 -4.198074  0.000027         -49.126406        True\n",
            "45        4  add_shipping_info  tablet  125.0  2379.0           0.052543   88.0  2360.0           0.037288 -2.534313  0.011267         -29.033220        True\n",
            "46        4     begin_checkout  tablet  311.0  2379.0           0.130727  232.0  2360.0           0.098305 -3.503646  0.000459         -24.801352        True\n",
            "47        4        new_account  tablet  215.0  2379.0           0.090374  198.0  2360.0           0.083898 -0.790263  0.429374          -7.165550       False \n",
            "\n"
          ]
        }
      ]
    },
    {
      "cell_type": "markdown",
      "source": [
        "##Висновки\n",
        "\n",
        "Розрахунки в розрізі пристроїв для **тесту №1** показали доволі негативні результати майже по всім метрикам для tablet. Пропоную впровадити зміни для всіх користувачів за виключенням device = tablet.\n",
        "\n",
        "Розрахунки в розрізі пристроїв для **тесту №2** майже всі статистично незначущі, тому можемо розрахувати на скільки нам потрібно продовжити тест, щоб отримати статистично значущі результати. Якщо термін продовження нам підходить, то продовжуємо тест, а якщо не підходить - відмовляємося від даного тесту.\n",
        "\n",
        "Розрахунки в розрізі пристроїв для **тесту №3** майже всі статистично незначущі, тому можемо розрахувати на скільки нам потрібно продовжити тест, щоб отримати статистично значущі результати. Якщо термін продовження нам підходить, то продовжуємо тест, а якщо не підходить - відмовляємося від даного тесту.\n",
        "\n",
        "Розрахунки в розрізі пристроїв для **тесту №4** майже всі мають негативний статистично значущий результат, потрібно зрозуміти причини негативного ефекту  і протестувати покращену версію."
      ],
      "metadata": {
        "id": "8ytunXxr0miR"
      }
    },
    {
      "cell_type": "markdown",
      "source": [
        "##Розрахунок значущості в розрізі channel"
      ],
      "metadata": {
        "id": "ROyyxjCAT9gT"
      }
    },
    {
      "cell_type": "code",
      "source": [
        "\n",
        "# Функція для обчислення метрик по каналах\n",
        "def calculate_metrics_for_channels(df, metrics):\n",
        "    # Ініціалізуємо список для збереження результатів\n",
        "    results_by_channel = []\n",
        "\n",
        "    # Перебираємо кожен тест (test від 1 до 4)\n",
        "    for test_id in range(1, 5):  # для тестів 1, 2, 3, 4\n",
        "        # Фільтруємо дані для конкретного тесту і групуємо по тест-групам, каналах та метриках\n",
        "        df_channel_grouped = df[df[\"test\"] == test_id].groupby([\"test_group\", \"channel\", \"event_name\"])[\"value\"].sum().unstack().reset_index()\n",
        "\n",
        "        for channel in df_channel_grouped[\"channel\"].unique():\n",
        "            # Фільтруємо по каналу\n",
        "            df_channel = df_channel_grouped[df_channel_grouped[\"channel\"] == channel]\n",
        "\n",
        "            # Перебираємо кожну метрику\n",
        "            for metric in metrics:\n",
        "                # Отримуємо дані для двох груп\n",
        "                x1 = df_channel[df_channel[\"test_group\"] == 1][metric].values[0]  # Кількість успіхів у групі 1\n",
        "                n1 = df_channel[df_channel[\"test_group\"] == 1][\"sessions\"].values[0]  # Всього сесій у групі 1\n",
        "                x2 = df_channel[df_channel[\"test_group\"] == 2][metric].values[0]  # Кількість успіхів у групі 2\n",
        "                n2 = df_channel[df_channel[\"test_group\"] == 2][\"sessions\"].values[0]  # Всього сесій у групі 2\n",
        "\n",
        "                # Розраховуємо конверсії\n",
        "                p1 = x1 / n1\n",
        "                p2 = x2 / n2\n",
        "\n",
        "                # Розраховуємо pooled proportion (спільну конверсію)\n",
        "                p_pooled = (x1 + x2) / (n1 + n2)\n",
        "\n",
        "                # Розраховуємо стандартну помилку\n",
        "                SE = (p_pooled * (1 - p_pooled) * (1/n1 + 1/n2)) ** 0.5\n",
        "\n",
        "                # Розраховуємо Z-статистику\n",
        "                Z = (p2 - p1) / SE\n",
        "\n",
        "                # Розраховуємо p-value\n",
        "                p_value = norm.sf(abs(Z)) * 2  # Двосторонній тест\n",
        "\n",
        "                # Відсоткову зміну\n",
        "                percentage_change = ((p2 / p1) - 1) * 100\n",
        "\n",
        "                # Визначаємо, чи є результат статистично значущим\n",
        "                significant = \"True\" if p_value < 0.05 else \"False\"\n",
        "\n",
        "                # Зберігаємо результат\n",
        "                results_by_channel.append({\n",
        "                    \"test_id\": test_id,\n",
        "                    \"metric\": metric,\n",
        "                    \"channel\": channel,\n",
        "                    \"x1\": x1,  # Кількість успіхів у групі 1\n",
        "                    \"n1\": n1,  # Всього сесій у групі 1\n",
        "                    \"conversion_rate_1\": p1,\n",
        "                    \"x2\": x2,  # Кількість успіхів у групі 2\n",
        "                    \"n2\": n2,  # Всього сесій у групі 2\n",
        "                    \"conversion_rate_2\": p2,\n",
        "                    \"z_stat\": Z,\n",
        "                    \"p_value\": p_value,\n",
        "                    \"percentage_change\": percentage_change,\n",
        "                    \"significant\": significant\n",
        "                })\n",
        "\n",
        "    # Перетворюємо в DataFrame для зручного виводу\n",
        "    df_results_by_channel = pd.DataFrame(results_by_channel)\n",
        "\n",
        "    # Групуємо за каналом, щоб переглянути результати окремо\n",
        "    channel_tables = {channel: df_results_by_channel[df_results_by_channel[\"channel\"] == channel] for channel in df_results_by_channel[\"channel\"].unique()}\n",
        "\n",
        "    return channel_tables\n",
        "\n",
        "# Визначаємо список метрик\n",
        "metrics = [\"add_payment_info\", \"add_shipping_info\", \"begin_checkout\", \"new_account\"]\n",
        "\n",
        "# Викликаємо функцію для обчислення результатів для всіх каналів\n",
        "channel_tables = calculate_metrics_for_channels(df, metrics)\n",
        "\n",
        "# Виводимо таблиці для кожного каналу\n",
        "for channel, table in channel_tables.items():\n",
        "    print(f\"Results for channel: {channel}\")\n",
        "    print(table, \"\\n\")\n"
      ],
      "metadata": {
        "colab": {
          "base_uri": "https://localhost:8080/"
        },
        "id": "1j0CUDQe77bd",
        "outputId": "6c849b3d-6b7c-4dd7-ebf2-6eeff6034423"
      },
      "execution_count": null,
      "outputs": [
        {
          "output_type": "stream",
          "name": "stdout",
          "text": [
            "Results for channel: Direct\n",
            "    test_id             metric channel      x1       n1  conversion_rate_1      x2       n2  conversion_rate_2    z_stat   p_value  percentage_change significant\n",
            "0         1   add_payment_info  Direct   392.0  10691.0           0.036666   516.0  10361.0           0.049802  4.690261  0.000003          35.825180        True\n",
            "1         1  add_shipping_info  Direct   664.0  10691.0           0.062108   716.0  10361.0           0.069105  2.050707  0.040295          11.265775        True\n",
            "2         1     begin_checkout  Direct   823.0  10691.0           0.076981   915.0  10361.0           0.088312  2.986589  0.002821          14.719677        True\n",
            "3         1        new_account  Direct   913.0  10691.0           0.085399   850.0  10361.0           0.082038 -0.879999  0.378860          -3.935085       False\n",
            "20        2   add_payment_info  Direct   516.0  11820.0           0.043655   504.0  11670.0           0.043188 -0.175651  0.860568          -1.070126       False\n",
            "21        2  add_shipping_info  Direct   791.0  11820.0           0.066920   747.0  11670.0           0.064010 -0.901554  0.367294          -4.348730       False\n",
            "22        2     begin_checkout  Direct   965.0  11820.0           0.081641   937.0  11670.0           0.080291 -0.379218  0.704526          -1.653502       False\n",
            "23        2        new_account  Direct  1002.0  11820.0           0.084772   966.0  11670.0           0.082776 -0.551853  0.581049          -2.353647       False\n",
            "40        3   add_payment_info  Direct   861.0  16337.0           0.052702   794.0  16326.0           0.048634 -1.676251  0.093689          -7.719515       False\n",
            "41        3  add_shipping_info  Direct  1233.0  16337.0           0.075473  1154.0  16326.0           0.070685 -1.662409  0.096431          -6.344077       False\n",
            "42        3     begin_checkout  Direct  2191.0  16337.0           0.134113  2094.0  16326.0           0.128262 -1.566116  0.117321          -4.362808       False\n",
            "43        3        new_account  Direct  1339.0  16337.0           0.081961  1376.0  16326.0           0.084283  0.759911  0.447308           2.832495       False\n",
            "60        4   add_payment_info  Direct   893.0  24395.0           0.036606   831.0  24653.0           0.033708 -1.742547  0.081413          -7.916756       False\n",
            "61        4  add_shipping_info  Direct  1191.0  24395.0           0.048821  1150.0  24653.0           0.046647 -1.129188  0.258818          -4.452985       False\n",
            "62        4     begin_checkout  Direct  2853.0  24395.0           0.116950  2826.0  24653.0           0.114631 -0.802588  0.422213          -1.982994       False\n",
            "63        4        new_account  Direct  2102.0  24395.0           0.086165  1980.0  24653.0           0.080315 -2.345336  0.019010          -6.789782        True \n",
            "\n",
            "Results for channel: Organic Search\n",
            "    test_id             metric         channel      x1       n1  conversion_rate_1      x2       n2  conversion_rate_2    z_stat   p_value  percentage_change significant\n",
            "4         1   add_payment_info  Organic Search   640.0  15675.0           0.040829   514.0  15631.0           0.032883 -3.730758  0.000191         -19.461427        True\n",
            "5         1  add_shipping_info  Organic Search  1021.0  15675.0           0.065136   922.0  15631.0           0.058985 -2.255094  0.024127          -9.442179        True\n",
            "6         1     begin_checkout  Organic Search  1249.0  15675.0           0.079681  1144.0  15631.0           0.073188 -2.161956  0.030622          -8.148898        True\n",
            "7         1        new_account  Organic Search  1307.0  15675.0           0.083381  1301.0  15631.0           0.083232 -0.047745  0.961919          -0.178867       False\n",
            "24        2   add_payment_info  Organic Search   698.0  17466.0           0.039963   597.0  17428.0           0.034255 -2.820279  0.004798         -14.283424        True\n",
            "25        2  add_shipping_info  Organic Search  1130.0  17466.0           0.064697  1040.0  17428.0           0.059674 -1.942671  0.052056          -7.763928       False\n",
            "26        2     begin_checkout  Organic Search  1385.0  17466.0           0.079297  1251.0  17428.0           0.071781 -2.656343  0.007899          -9.478146        True\n",
            "27        2        new_account  Organic Search  1422.0  17466.0           0.081415  1500.0  17428.0           0.086068  1.568956  0.116658           5.715232       False\n",
            "44        3   add_payment_info  Organic Search  1036.0  24585.0           0.042140  1098.0  25055.0           0.043824  0.924884  0.355026           3.996420       False\n",
            "45        3  add_shipping_info  Organic Search  1601.0  24585.0           0.065121  1563.0  25055.0           0.062383 -1.248645  0.211795          -4.204865       False\n",
            "46        3     begin_checkout  Organic Search  2921.0  24585.0           0.118812  2738.0  25055.0           0.109280 -3.341271  0.000834          -8.023328        True\n",
            "47        3        new_account  Organic Search  2084.0  24585.0           0.084767  2067.0  25055.0           0.082499 -0.912920  0.361285          -2.676310       False\n",
            "64        4   add_payment_info  Organic Search  1092.0  38033.0           0.028712  1063.0  37831.0           0.028099 -0.508372  0.611192          -2.135904       False\n",
            "65        4  add_shipping_info  Organic Search  1558.0  38033.0           0.040964  1437.0  37831.0           0.037985 -2.107295  0.035092          -7.273882        True\n",
            "66        4     begin_checkout  Organic Search  3907.0  38033.0           0.102727  3577.0  37831.0           0.094552 -3.775300  0.000160          -7.957524        True\n",
            "67        4        new_account  Organic Search  3325.0  38033.0           0.087424  3140.0  37831.0           0.083001 -2.181795  0.029125          -5.059665        True \n",
            "\n",
            "Results for channel: Paid Search\n",
            "    test_id             metric      channel      x1       n1  conversion_rate_1      x2       n2  conversion_rate_2    z_stat   p_value  percentage_change significant\n",
            "8         1   add_payment_info  Paid Search   450.0  11777.0           0.038210   519.0  11841.0           0.043831  2.177389  0.029452          14.709963        True\n",
            "9         1  add_shipping_info  Paid Search   770.0  11777.0           0.065382   794.0  11841.0           0.067055  0.517118  0.605074           2.559542       False\n",
            "10        1     begin_checkout  Paid Search   967.0  11777.0           0.082109   958.0  11841.0           0.080905 -0.338093  0.735293          -1.466178       False\n",
            "11        1        new_account  Paid Search   990.0  11777.0           0.084062   948.0  11841.0           0.080061 -1.120297  0.262587          -4.759989       False\n",
            "28        2   add_payment_info  Paid Search   539.0  13329.0           0.040438   571.0  13187.0           0.043300  1.163530  0.244615           7.077668       False\n",
            "29        2  add_shipping_info  Paid Search   842.0  13329.0           0.063171   916.0  13187.0           0.069462  2.058898  0.039504           9.960054        True\n",
            "30        2     begin_checkout  Paid Search  1022.0  13329.0           0.076675  1103.0  13187.0           0.083643  2.089506  0.036662           9.087799        True\n",
            "31        2        new_account  Paid Search  1084.0  13329.0           0.081326  1074.0  13187.0           0.081444  0.034963  0.972110           0.144375       False\n",
            "48        3   add_payment_info  Paid Search   816.0  18763.0           0.043490   831.0  18744.0           0.044334  0.399028  0.689872           1.941464       False\n",
            "49        3  add_shipping_info  Paid Search  1294.0  18763.0           0.068966  1232.0  18744.0           0.065728 -1.251002  0.210934          -4.694836       False\n",
            "50        3     begin_checkout  Paid Search  2322.0  18763.0           0.123754  2192.0  18744.0           0.116944 -2.026753  0.042688          -5.502931        True\n",
            "51        3        new_account  Paid Search  1576.0  18763.0           0.083995  1553.0  18744.0           0.082853 -0.399880  0.689245          -1.359504       False\n",
            "68        4   add_payment_info  Paid Search   776.0  28974.0           0.026783   761.0  28739.0           0.026480 -0.226004  0.821199          -1.131092       False\n",
            "69        4  add_shipping_info  Paid Search  1152.0  28974.0           0.039760  1173.0  28739.0           0.040816  0.644989  0.518934           2.655527       False\n",
            "70        4     begin_checkout  Paid Search  2779.0  28974.0           0.095914  2946.0  28739.0           0.102509  2.650123  0.008046           6.876199        True\n",
            "71        4        new_account  Paid Search  2406.0  28974.0           0.083040  2404.0  28739.0           0.083649  0.264842  0.791131           0.733899       False \n",
            "\n",
            "Results for channel: Social Search\n",
            "    test_id             metric        channel      x1      n1  conversion_rate_1      x2      n2  conversion_rate_2    z_stat   p_value  percentage_change significant\n",
            "12        1   add_payment_info  Social Search   237.0  3883.0           0.061035   264.0  3963.0           0.066616  1.010906  0.312061           9.143757       False\n",
            "13        1  add_shipping_info  Social Search   300.0  3883.0           0.077260   353.0  3963.0           0.089074  1.894123  0.058209          15.291362       False\n",
            "14        1     begin_checkout  Social Search   392.0  3883.0           0.100953   435.0  3963.0           0.109765  1.270944  0.203748           8.729279       False\n",
            "15        1        new_account  Social Search   312.0  3883.0           0.080350   335.0  3963.0           0.084532  0.673259  0.500783           5.204310       False\n",
            "32        2   add_payment_info  Social Search   259.0  4361.0           0.059390   301.0  4289.0           0.070180  2.038973  0.041453          18.167153        True\n",
            "33        2  add_shipping_info  Social Search   364.0  4361.0           0.083467   362.0  4289.0           0.084402  0.156779  0.875419           1.120039       False\n",
            "34        2     begin_checkout  Social Search   442.0  4361.0           0.101353   461.0  4289.0           0.107484  0.932450  0.351104           6.049517       False\n",
            "35        2        new_account  Social Search   367.0  4361.0           0.084155   336.0  4289.0           0.078340 -0.989589  0.322375          -6.909952       False\n",
            "52        3   add_payment_info  Social Search   418.0  5726.0           0.073000   432.0  5780.0           0.074740  0.356803  0.721239           2.383735       False\n",
            "53        3  add_shipping_info  Social Search   583.0  5726.0           0.101816   584.0  5780.0           0.101038 -0.138254  0.890040          -0.764332       False\n",
            "54        3     begin_checkout  Social Search  1032.0  5726.0           0.180231  1065.0  5780.0           0.184256  0.559247  0.575993           2.233544       False\n",
            "55        3        new_account  Social Search   474.0  5726.0           0.082780   463.0  5780.0           0.080104 -0.524845  0.599691          -3.233250       False\n",
            "72        4   add_payment_info  Social Search   474.0  7961.0           0.059540   380.0  8056.0           0.047170 -3.484160  0.000494         -20.776610        True\n",
            "73        4  add_shipping_info  Social Search   587.0  7961.0           0.073734   530.0  8056.0           0.065789 -1.973819  0.048402         -10.775128        True\n",
            "74        4     begin_checkout  Social Search  1438.0  7961.0           0.180631  1318.0  8056.0           0.163605 -2.854395  0.004312          -9.425762        True\n",
            "75        4        new_account  Social Search   667.0  7961.0           0.083783   653.0  8056.0           0.081058 -0.627241  0.530501          -3.253444       False \n",
            "\n",
            "Results for channel: Undefined\n",
            "    test_id             metric    channel      x1      n1  conversion_rate_1      x2      n2  conversion_rate_2    z_stat       p_value  percentage_change significant\n",
            "16        1   add_payment_info  Undefined   269.0  3336.0           0.080635   416.0  3397.0           0.122461  5.676166  1.377470e-08          51.869844        True\n",
            "17        1  add_shipping_info  Undefined   279.0  3336.0           0.083633   436.0  3397.0           0.128349  5.954477  2.609056e-09          53.466215        True\n",
            "18        1     begin_checkout  Undefined   353.0  3336.0           0.105815   569.0  3397.0           0.167501  7.361334  1.820817e-13          58.295313        True\n",
            "19        1        new_account  Undefined   301.0  3336.0           0.090228   247.0  3397.0           0.072711 -2.628178  8.584350e-03         -19.413749        True\n",
            "36        2   add_payment_info  Undefined   332.0  3661.0           0.090686   436.0  3670.0           0.118801  3.930323  8.483173e-05          31.003250        True\n",
            "37        2  add_shipping_info  Undefined   353.0  3661.0           0.096422   445.0  3670.0           0.121253  3.413206  6.420331e-04          25.753178        True\n",
            "38        2     begin_checkout  Undefined   448.0  3661.0           0.122371   561.0  3670.0           0.152861  3.788790  1.513830e-04          24.916127        True\n",
            "39        2        new_account  Undefined   290.0  3661.0           0.079213   308.0  3670.0           0.083924  0.736742  4.612795e-01           5.946444       False\n",
            "56        3   add_payment_info  Undefined   492.0  4636.0           0.106126   542.0  4534.0           0.119541  2.030631  4.229248e-02          12.640896        True\n",
            "57        3  add_shipping_info  Undefined   587.0  4636.0           0.126618   655.0  4534.0           0.144464  2.496906  1.252823e-02          14.094605        True\n",
            "58        3     begin_checkout  Undefined  1066.0  4636.0           0.229940  1175.0  4534.0           0.259153  3.254797  1.134733e-03          12.704842        True\n",
            "59        3        new_account  Undefined   383.0  4636.0           0.082614   363.0  4534.0           0.080062 -0.447039  6.548467e-01          -3.089739       False\n",
            "76        4   add_payment_info  Undefined   496.0  5716.0           0.086774   566.0  5862.0           0.096554  1.822812  6.833182e-02          11.270787       False\n",
            "77        4  add_shipping_info  Undefined   640.0  5716.0           0.111966   666.0  5862.0           0.113613  0.280026  7.794573e-01           1.470701       False\n",
            "78        4     begin_checkout  Undefined  1578.0  5716.0           0.276067  1600.0  5862.0           0.272944 -0.376454  7.065792e-01          -1.131171       False\n",
            "79        4        new_account  Undefined   484.0  5716.0           0.084675   510.0  5862.0           0.087001  0.446742  6.550613e-01           2.747490       False \n",
            "\n"
          ]
        }
      ]
    },
    {
      "cell_type": "markdown",
      "source": [
        "##Висновки\n",
        "\n",
        "Розрахунки в розрізі каналів для **тесту №1** показали змішані резутьтати. Пропоную погоджувати тес для каналів: Direct та Undefined. А для інших каналів розглянути оптимізацію.\n",
        "\n",
        "Розрахунки в розрізі каналів для **тесту №2** показали змішані резутьтати. Пропоную погоджувати тес для каналів: Paid Search, Social Search та Undefined. А для інших каналів розглянути оптимізацію.\n",
        "\n",
        "Розрахунки в розрізі каналів для **тесту №3** показали позитивно статистично значущі результати лише для каналу Undefined. Тому цей тест пропоную запустити лише для одного каналу, а для інших каналів розглянути оптимізацію.\n",
        "\n",
        "Розрахунки в розрізі каналів для **тесту №4** показали негативні або статистично незначущі результати. Пропоную відмовитися від даного тесту або доопрацювати його."
      ],
      "metadata": {
        "id": "R35gpPd_335_"
      }
    },
    {
      "cell_type": "markdown",
      "source": [
        "##Розрахунок значущості в розрізі continent"
      ],
      "metadata": {
        "id": "HGBi0GReUbQL"
      }
    },
    {
      "cell_type": "code",
      "source": [
        "\n",
        "# Функція для обчислення метрик по континентах\n",
        "def calculate_metrics_for_continents(df, metrics):\n",
        "    # Ініціалізуємо список для збереження результатів\n",
        "    results_by_continent = []\n",
        "\n",
        "    # Перебираємо кожен тест (test від 1 до 4)\n",
        "    for test_id in range(1, 5):  # для тестів 1, 2, 3, 4\n",
        "        # Фільтруємо дані для конкретного тесту і групуємо по тест-групам, континентах та метриках\n",
        "        df_continent_grouped = df[df[\"test\"] == test_id].groupby([\"test_group\", \"continent\", \"event_name\"])[\"value\"].sum().unstack().reset_index()\n",
        "\n",
        "        for continent in df_continent_grouped[\"continent\"].unique():\n",
        "            # Фільтруємо по континенту\n",
        "            df_continent = df_continent_grouped[df_continent_grouped[\"continent\"] == continent]\n",
        "\n",
        "            # Перебираємо кожну метрику\n",
        "            for metric in metrics:\n",
        "                # Отримуємо дані для двох груп\n",
        "                x1 = df_continent[df_continent[\"test_group\"] == 1][metric].values[0]  # Кількість успіхів у групі 1\n",
        "                n1 = df_continent[df_continent[\"test_group\"] == 1][\"sessions\"].values[0]  # Всього сесій у групі 1\n",
        "                x2 = df_continent[df_continent[\"test_group\"] == 2][metric].values[0]  # Кількість успіхів у групі 2\n",
        "                n2 = df_continent[df_continent[\"test_group\"] == 2][\"sessions\"].values[0]  # Всього сесій у групі 2\n",
        "\n",
        "                # Розраховуємо конверсії\n",
        "                p1 = x1 / n1\n",
        "                p2 = x2 / n2\n",
        "\n",
        "                # Розраховуємо pooled proportion (спільну конверсію)\n",
        "                p_pooled = (x1 + x2) / (n1 + n2)\n",
        "\n",
        "                # Розраховуємо стандартну помилку\n",
        "                SE = (p_pooled * (1 - p_pooled) * (1/n1 + 1/n2)) ** 0.5\n",
        "\n",
        "                # Розраховуємо Z-статистику\n",
        "                Z = (p2 - p1) / SE\n",
        "\n",
        "                # Розраховуємо p-value\n",
        "                p_value = norm.sf(abs(Z)) * 2  # Двосторонній тест\n",
        "\n",
        "                # Відсоткову зміну\n",
        "                percentage_change = ((p2 / p1) - 1) * 100\n",
        "\n",
        "                # Визначаємо, чи є результат статистично значущим\n",
        "                significant = \"True\" if p_value < 0.05 else \"False\"\n",
        "\n",
        "                # Зберігаємо результат\n",
        "                results_by_continent.append({\n",
        "                    \"test_id\": test_id,\n",
        "                    \"metric\": metric,\n",
        "                    \"continent\": continent,\n",
        "                    \"x1\": x1,  # Кількість успіхів у групі 1\n",
        "                    \"n1\": n1,  # Всього сесій у групі 1\n",
        "                    \"conversion_rate_1\": p1,\n",
        "                    \"x2\": x2,  # Кількість успіхів у групі 2\n",
        "                    \"n2\": n2,  # Всього сесій у групі 2\n",
        "                    \"conversion_rate_2\": p2,\n",
        "                    \"z_stat\": Z,\n",
        "                    \"p_value\": p_value,\n",
        "                    \"percentage_change\": percentage_change,\n",
        "                    \"significant\": significant\n",
        "                })\n",
        "\n",
        "    # Перетворюємо в DataFrame для зручного виводу\n",
        "    df_results_by_continent = pd.DataFrame(results_by_continent)\n",
        "\n",
        "    # Групуємо за континентом, щоб переглянути результати окремо\n",
        "    continent_tables = {continent: df_results_by_continent[df_results_by_continent[\"continent\"] == continent] for continent in df_results_by_continent[\"continent\"].unique()}\n",
        "\n",
        "    return continent_tables\n",
        "\n",
        "# Визначаємо список метрик\n",
        "metrics = [\"add_payment_info\", \"add_shipping_info\", \"begin_checkout\", \"new_account\"]\n",
        "\n",
        "# Викликаємо функцію для обчислення результатів для всіх континентів\n",
        "continent_tables = calculate_metrics_for_continents(df, metrics)\n",
        "\n",
        "# Виводимо таблиці для кожного континенту\n",
        "for continent, table in continent_tables.items():\n",
        "    print(f\"Results for continent: {continent}\")\n",
        "    print(table, \"\\n\")\n"
      ],
      "metadata": {
        "colab": {
          "base_uri": "https://localhost:8080/"
        },
        "id": "dZoOjf7J9x9G",
        "outputId": "50fbdd26-8a7a-40b5-96ed-43121f12719a"
      },
      "execution_count": null,
      "outputs": [
        {
          "output_type": "stream",
          "name": "stdout",
          "text": [
            "Results for continent: (not set)\n",
            "    test_id             metric  continent    x1     n1  conversion_rate_1    x2     n2  conversion_rate_2    z_stat   p_value  percentage_change significant\n",
            "0         1   add_payment_info  (not set)   7.0   97.0           0.072165  10.0  100.0           0.100000  0.695585  0.486689          38.571429       False\n",
            "1         1  add_shipping_info  (not set)   4.0   97.0           0.041237  13.0  100.0           0.130000  2.218144  0.026545         215.250000        True\n",
            "2         1     begin_checkout  (not set)   4.0   97.0           0.041237  22.0  100.0           0.220000  3.706053  0.000211         433.500000        True\n",
            "3         1        new_account  (not set)   7.0   97.0           0.072165  11.0  100.0           0.110000  0.921405  0.356839          52.428571       False\n",
            "24        2   add_payment_info  (not set)  11.0   89.0           0.123596   7.0  130.0           0.053846 -1.845842  0.064915         -56.433566       False\n",
            "25        2  add_shipping_info  (not set)   7.0   89.0           0.078652  11.0  130.0           0.084615  0.157823  0.874596           7.582418       False\n",
            "26        2     begin_checkout  (not set)   8.0   89.0           0.089888  19.0  130.0           0.146154  1.243953  0.213517          62.596154       False\n",
            "27        2        new_account  (not set)   8.0   89.0           0.089888  11.0  130.0           0.084615 -0.136142  0.891709          -5.865385       False\n",
            "48        3   add_payment_info  (not set)  14.0  175.0           0.080000  19.0  152.0           0.125000  1.347400  0.177851          56.250000       False\n",
            "49        3  add_shipping_info  (not set)  24.0  175.0           0.137143  20.0  152.0           0.131579 -0.147053  0.883090          -4.057018       False\n",
            "50        3     begin_checkout  (not set)  44.0  175.0           0.251429  34.0  152.0           0.223684 -0.587141  0.557109         -11.034689       False\n",
            "51        3        new_account  (not set)  12.0  175.0           0.068571   9.0  152.0           0.059211 -0.344399  0.730546         -13.651316       False\n",
            "72        4   add_payment_info  (not set)  22.0  234.0           0.094017   8.0  262.0           0.030534 -2.960748  0.003069         -67.522554        True\n",
            "73        4  add_shipping_info  (not set)  27.0  234.0           0.115385  14.0  262.0           0.053435 -2.501149  0.012379         -53.689567        True\n",
            "74        4     begin_checkout  (not set)  59.0  234.0           0.252137  35.0  262.0           0.133588 -3.362949  0.000771         -47.017725        True\n",
            "75        4        new_account  (not set)  15.0  234.0           0.064103  16.0  262.0           0.061069 -0.139344  0.889178          -4.732824       False \n",
            "\n",
            "Results for continent: Africa\n",
            "    test_id             metric continent    x1      n1  conversion_rate_1     x2      n2  conversion_rate_2    z_stat   p_value  percentage_change significant\n",
            "4         1   add_payment_info    Africa  19.0   494.0           0.038462   24.0   474.0           0.050633  0.918808  0.358196          31.645570       False\n",
            "5         1  add_shipping_info    Africa  41.0   494.0           0.082996   28.0   474.0           0.059072 -1.446185  0.148125         -28.825769       False\n",
            "6         1     begin_checkout    Africa  54.0   494.0           0.109312   33.0   474.0           0.069620 -2.158441  0.030894         -36.310361        True\n",
            "7         1        new_account    Africa  36.0   494.0           0.072874   38.0   474.0           0.080169  0.426961  0.669408          10.009376       False\n",
            "28        2   add_payment_info    Africa  32.0   566.0           0.056537   11.0   490.0           0.022449 -2.795132  0.005188         -60.293367        True\n",
            "29        2  add_shipping_info    Africa  50.0   566.0           0.088339   21.0   490.0           0.042857 -2.943278  0.003248         -51.485714        True\n",
            "30        2     begin_checkout    Africa  64.0   566.0           0.113074   25.0   490.0           0.051020 -3.619915  0.000295         -54.878827        True\n",
            "31        2        new_account    Africa  47.0   566.0           0.083039   37.0   490.0           0.075510 -0.450903  0.652059          -9.066435       False\n",
            "52        3   add_payment_info    Africa  33.0   681.0           0.048458   28.0   709.0           0.039492 -0.815776  0.414628         -18.502372       False\n",
            "53        3  add_shipping_info    Africa  48.0   681.0           0.070485   51.0   709.0           0.071932  0.104908  0.916449           2.053949       False\n",
            "54        3     begin_checkout    Africa  80.0   681.0           0.117474   91.0   709.0           0.128350  0.617096  0.537171           9.257757       False\n",
            "55        3        new_account    Africa  46.0   681.0           0.067548   43.0   709.0           0.060649 -0.525233  0.599421         -10.213405       False\n",
            "76        4   add_payment_info    Africa  38.0  1096.0           0.034672   39.0  1086.0           0.035912  0.156972  0.875267           3.576621       False\n",
            "77        4  add_shipping_info    Africa  39.0  1096.0           0.035584   57.0  1086.0           0.052486  1.924860  0.054247          47.499646       False\n",
            "78        4     begin_checkout    Africa  98.0  1096.0           0.089416  139.0  1086.0           0.127993  2.895591  0.003784          43.142782        True\n",
            "79        4        new_account    Africa  96.0  1096.0           0.087591   74.0  1086.0           0.068140 -1.694951  0.090085         -22.206875       False \n",
            "\n",
            "Results for continent: Americas\n",
            "    test_id             metric continent      x1       n1  conversion_rate_1      x2       n2  conversion_rate_2    z_stat   p_value  percentage_change significant\n",
            "8         1   add_payment_info  Americas  1107.0  25164.0           0.043991  1177.0  24769.0           0.047519  1.886469  0.059232           8.018973       False\n",
            "9         1  add_shipping_info  Americas  1704.0  25164.0           0.067716  1738.0  24769.0           0.070168  1.081607  0.279427           3.621860       False\n",
            "10        1     begin_checkout  Americas  2130.0  25164.0           0.084645  2164.0  24769.0           0.087367  1.084960  0.277940           3.216435       False\n",
            "11        1        new_account  Americas  2165.0  25164.0           0.086036  1971.0  24769.0           0.079575 -2.618689  0.008827          -7.508904        True\n",
            "32        2   add_payment_info  Americas  1230.0  27902.0           0.044083  1342.0  27772.0           0.048322  2.382535  0.017194           9.616412        True\n",
            "33        2  add_shipping_info  Americas  1923.0  27902.0           0.068920  1931.0  27772.0           0.069530  0.283825  0.776544           0.886061       False\n",
            "34        2     begin_checkout  Americas  2361.0  27902.0           0.084618  2360.0  27772.0           0.084978  0.152493  0.878798           0.425544       False\n",
            "35        2        new_account  Americas  2307.0  27902.0           0.082682  2296.0  27772.0           0.082673 -0.003876  0.996907          -0.010944       False\n",
            "56        3   add_payment_info  Americas  1959.0  38689.0           0.050635  2041.0  38992.0           0.052344  1.077969  0.281048           3.376199       False\n",
            "57        3  add_shipping_info  Americas  2925.0  38689.0           0.075603  2854.0  38992.0           0.073195 -1.278991  0.200900          -3.185570       False\n",
            "58        3     begin_checkout  Americas  5309.0  38689.0           0.137222  5089.0  38992.0           0.130514 -2.745603  0.006040          -4.888787        True\n",
            "59        3        new_account  Americas  3222.0  38689.0           0.083279  3218.0  38992.0           0.082530 -0.378913  0.704753          -0.900264       False\n",
            "80        4   add_payment_info  Americas  2030.0  58053.0           0.034968  2032.0  58031.0           0.035016  0.044240  0.964713           0.136470       False\n",
            "81        4  add_shipping_info  Americas  2818.0  58053.0           0.048542  2785.0  58031.0           0.047992 -0.437363  0.661848          -1.133576       False\n",
            "82        4     begin_checkout  Americas  6886.0  58053.0           0.118616  6929.0  58031.0           0.119402  0.413501  0.679239           0.662603       False\n",
            "83        4        new_account  Americas  4990.0  58053.0           0.085956  4836.0  58031.0           0.083335 -1.604184  0.108674          -3.049432       False \n",
            "\n",
            "Results for continent: Asia\n",
            "    test_id             metric continent      x1       n1  conversion_rate_1      x2       n2  conversion_rate_2    z_stat   p_value  percentage_change significant\n",
            "12        1   add_payment_info      Asia   512.0  10626.0           0.048184   545.0  10932.0           0.049854  0.567695  0.570242           3.465779       False\n",
            "13        1  add_shipping_info      Asia   730.0  10626.0           0.068699   798.0  10932.0           0.072997  1.229225  0.218987           6.255207       False\n",
            "14        1     begin_checkout      Asia   915.0  10626.0           0.086110  1002.0  10932.0           0.091658  1.430806  0.152486           6.442929       False\n",
            "15        1        new_account      Asia   878.0  10626.0           0.082628   934.0  10932.0           0.085437  0.743336  0.457278           3.400479       False\n",
            "36        2   add_payment_info      Asia   572.0  11983.0           0.047734   630.0  11983.0           0.052574  1.716522  0.086067          10.139860       False\n",
            "37        2  add_shipping_info      Asia   833.0  11983.0           0.069515   871.0  11983.0           0.072686  0.955134  0.339510           4.561825       False\n",
            "38        2     begin_checkout      Asia  1008.0  11983.0           0.084119  1102.0  11983.0           0.091964  2.142886  0.032122           9.325397        True\n",
            "39        2        new_account      Asia   985.0  11983.0           0.082200  1025.0  11983.0           0.085538  0.932144  0.351262           4.060914       False\n",
            "60        3   add_payment_info      Asia   872.0  16628.0           0.052442   843.0  16715.0           0.050434 -0.829955  0.406564          -3.828869       False\n",
            "61        3  add_shipping_info      Asia  1213.0  16628.0           0.072949  1184.0  16715.0           0.070835 -0.747447  0.454794          -2.898814       False\n",
            "62        3     begin_checkout      Asia  2162.0  16628.0           0.130022  2119.0  16715.0           0.126772 -0.886806  0.375183          -2.499038       False\n",
            "63        3        new_account      Asia  1443.0  16628.0           0.086781  1395.0  16715.0           0.083458 -1.087330  0.276891          -3.829580       False\n",
            "84        4   add_payment_info      Asia   819.0  24908.0           0.032881   830.0  25165.0           0.032982  0.063519  0.949354           0.308125       False\n",
            "85        4  add_shipping_info      Asia  1098.0  24908.0           0.044082  1124.0  25165.0           0.044665  0.316746  0.751436           1.322499       False\n",
            "86        4     begin_checkout      Asia  2694.0  24908.0           0.108158  2764.0  25165.0           0.109835  0.602092  0.547113           1.550571       False\n",
            "87        4        new_account      Asia  2164.0  24908.0           0.086880  2039.0  25165.0           0.081025 -2.362187  0.018167          -6.738608        True \n",
            "\n",
            "Results for continent: Europe\n",
            "    test_id             metric continent      x1       n1  conversion_rate_1      x2       n2  conversion_rate_2    z_stat   p_value  percentage_change significant\n",
            "16        1   add_payment_info    Europe   324.0   8472.0           0.038244   452.0   8423.0           0.053663  4.786971  0.000002          40.317737        True\n",
            "17        1  add_shipping_info    Europe   528.0   8472.0           0.062323   606.0   8423.0           0.071946  2.499273  0.012445          15.440407        True\n",
            "18        1     begin_checkout    Europe   645.0   8472.0           0.076133   744.0   8423.0           0.088330  2.885607  0.003907          16.019868        True\n",
            "19        1        new_account    Europe   700.0   8472.0           0.082625   683.0   8423.0           0.081087 -0.364510  0.715477          -1.860959       False\n",
            "40        2   add_payment_info    Europe   481.0   9520.0           0.050525   395.0   9318.0           0.042391 -2.650815  0.008030         -16.099169        True\n",
            "41        2  add_shipping_info    Europe   643.0   9520.0           0.067542   628.0   9318.0           0.067396 -0.039827  0.968231          -0.215540       False\n",
            "42        2     begin_checkout    Europe   787.0   9520.0           0.082668   742.0   9318.0           0.079631 -0.763198  0.445345          -3.674025       False\n",
            "43        2        new_account    Europe   770.0   9520.0           0.080882   771.0   9318.0           0.082743  0.465900  0.641287           2.300533       False\n",
            "64        3   add_payment_info    Europe   681.0  13190.0           0.051630   710.0  13108.0           0.054165  0.918479  0.358368           4.910655       False\n",
            "65        3  add_shipping_info    Europe  1003.0  13190.0           0.076042   999.0  13108.0           0.076213  0.052142  0.958416           0.224274       False\n",
            "66        3     begin_checkout    Europe  1777.0  13190.0           0.134723  1784.0  13108.0           0.136100  0.326269  0.744221           1.021959       False\n",
            "67        3        new_account    Europe  1086.0  13190.0           0.082335  1106.0  13108.0           0.084376  0.598660  0.549399           2.478713       False\n",
            "88        4   add_payment_info    Europe   747.0  19693.0           0.037932   654.0  19528.0           0.033490 -2.369910  0.017792         -11.710052        True\n",
            "89        4  add_shipping_info    Europe  1055.0  19693.0           0.053572   917.0  19528.0           0.046958 -2.997130  0.002725         -12.346151        True\n",
            "90        4     begin_checkout    Europe  2600.0  19693.0           0.132027  2263.0  19528.0           0.115885 -4.849847  0.000001         -12.226115        True\n",
            "91        4        new_account    Europe  1642.0  19693.0           0.083380  1633.0  19528.0           0.083624  0.087207  0.930507           0.292197       False \n",
            "\n",
            "Results for continent: Oceania\n",
            "    test_id             metric continent     x1      n1  conversion_rate_1     x2      n2  conversion_rate_2    z_stat   p_value  percentage_change significant\n",
            "20        1   add_payment_info   Oceania   19.0   509.0           0.037328   21.0   495.0           0.042424  0.412764  0.679779          13.652313       False\n",
            "21        1  add_shipping_info   Oceania   27.0   509.0           0.053045   38.0   495.0           0.076768  1.527211  0.126708          44.721287       False\n",
            "22        1     begin_checkout   Oceania   36.0   509.0           0.070727   56.0   495.0           0.113131  2.328348  0.019894          59.955107        True\n",
            "23        1        new_account   Oceania   37.0   509.0           0.072692   44.0   495.0           0.088889  0.942169  0.346106          22.282282       False\n",
            "44        2   add_payment_info   Oceania   18.0   577.0           0.031196   24.0   551.0           0.043557  1.096084  0.273042          39.624924       False\n",
            "45        2  add_shipping_info   Oceania   24.0   577.0           0.041594   48.0   551.0           0.087114  3.126232  0.001771         109.437387        True\n",
            "46        2     begin_checkout   Oceania   34.0   577.0           0.058925   65.0   551.0           0.117967  3.503103  0.000460         100.197502        True\n",
            "47        2        new_account   Oceania   48.0   577.0           0.083189   44.0   551.0           0.079855 -0.204514  0.837952          -4.007864       False\n",
            "68        3   add_payment_info   Oceania   64.0   684.0           0.093567   56.0   763.0           0.073394 -1.389197  0.164773         -21.559633       False\n",
            "69        3  add_shipping_info   Oceania   85.0   684.0           0.124269   80.0   763.0           0.104849 -1.160331  0.245914         -15.627168       False\n",
            "70        3     begin_checkout   Oceania  160.0   684.0           0.233918  147.0   763.0           0.192661 -1.916491  0.055303         -17.637615       False\n",
            "71        3        new_account   Oceania   47.0   684.0           0.068713   51.0   763.0           0.066841 -0.141488  0.887484          -2.724408       False\n",
            "92        4   add_payment_info   Oceania   75.0  1095.0           0.068493   38.0  1069.0           0.035547 -3.444324  0.000572         -48.101029        True\n",
            "93        4  add_shipping_info   Oceania   91.0  1095.0           0.083105   59.0  1069.0           0.055192 -2.555993  0.010589         -33.587928        True\n",
            "94        4     begin_checkout   Oceania  218.0  1095.0           0.199087  137.0  1069.0           0.128157 -4.454701  0.000008         -35.627483        True\n",
            "95        4        new_account   Oceania   77.0  1095.0           0.070320   89.0  1069.0           0.083255  1.130483  0.258273          18.395636       False \n",
            "\n"
          ]
        }
      ]
    },
    {
      "cell_type": "markdown",
      "source": [
        "##Висновки\n",
        "\n",
        "Розрахунки в розрізі континентів для **тесту №1** показали змішані резутьтати. Пропоную погоджувати тест для континентів з групи not set та Europe. А для інших потрібно розрахувати термін продовження тесту, щоб отримати статистично значущі результати. Якщо термін продовження нам підходить, то продовжуємо тест, а якщо не підходить - відмовляємося від даного тесту на цих континентах.\n",
        "\n",
        "Розрахунки в розрізі континентів для **тесту №2** показали доволі негативні результати. Пропоную провети оптимізацію тесту.\n",
        "\n",
        "Розрахунки в розрізі континентів для **тесту №3** показали доволі негативні результати. Пропоную провети оптимізацію тесту.\n",
        "\n",
        "Розрахунки в розрізі континентів для **тесту №4** показали доволі негативні результати. Пропоную провети оптимізацію тесту."
      ],
      "metadata": {
        "id": "XS1Jyftg7YcO"
      }
    },
    {
      "cell_type": "markdown",
      "source": [
        "###Посилання на дашборд: https://public.tableau.com/app/profile/svitlana.kopach/viz/SignificanceresultsofABtests/Dashboard1"
      ],
      "metadata": {
        "id": "2PDNAHCaldIK"
      }
    },
    {
      "cell_type": "markdown",
      "source": [
        "###Посилання на файл з результатами розрахунків першого етапу завдання:\n",
        "https://docs.google.com/spreadsheets/d/1-4dwGLunngRlKR7a2ndhQVSaQdqkEqdA/edit?usp=sharing&ouid=112754362411357494984&rtpof=true&sd=true"
      ],
      "metadata": {
        "id": "S_HJWMlll5a0"
      }
    }
  ]
}